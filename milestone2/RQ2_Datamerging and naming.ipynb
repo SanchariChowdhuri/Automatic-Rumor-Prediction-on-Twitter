{
 "cells": [
  {
   "cell_type": "code",
   "execution_count": 3,
   "metadata": {
    "collapsed": true
   },
   "outputs": [],
   "source": [
    "import pandas as pd\n",
    "import nltk"
   ]
  },
  {
   "cell_type": "code",
   "execution_count": 4,
   "metadata": {
    "collapsed": false
   },
   "outputs": [
    {
     "data": {
      "text/plain": [
       "u'C:\\\\Users\\\\Sanchari Chowdhuri\\\\Desktop\\\\MIM\\\\SEM2\\\\INST737-Digging into Data\\\\PROJECT\\\\milestone 2'"
      ]
     },
     "execution_count": 4,
     "metadata": {},
     "output_type": "execute_result"
    }
   ],
   "source": [
    "%pwd"
   ]
  },
  {
   "cell_type": "code",
   "execution_count": 5,
   "metadata": {
    "collapsed": false
   },
   "outputs": [],
   "source": [
    "#import dataframe of rumor cases\n",
    "df1=pd.read_csv(\"iphone1.csv\")\n",
    "df2=pd.read_csv(\"iphone2.csv\")\n",
    "df3=pd.read_csv(\"iphone3.csv\")\n",
    "df4=pd.read_csv(\"metro.csv\")\n",
    "df5=pd.read_csv(\"Trump-Russia.csv\")\n",
    "df6=pd.read_csv(\"DC missing.csv\")\n"
   ]
  },
  {
   "cell_type": "code",
   "execution_count": 6,
   "metadata": {
    "collapsed": false
   },
   "outputs": [],
   "source": [
    "#merging all rumor dataframes into one dataframe\n",
    "df_new = pd.concat([df1,df2,df3,df4,df5,df6])\n"
   ]
  },
  {
   "cell_type": "code",
   "execution_count": 8,
   "metadata": {
    "collapsed": false
   },
   "outputs": [],
   "source": [
    "# Save the dataframe in a csv\n",
    "df_new.to_csv(\"combined_data.csv\", index=False)"
   ]
  },
  {
   "cell_type": "code",
   "execution_count": 9,
   "metadata": {
    "collapsed": false
   },
   "outputs": [
    {
     "name": "stdout",
     "output_type": "stream",
     "text": [
      "Collecting https://pypi.python.org/packages/dd/01/cc5b32af2b3658079736bd865019aeb8db04f9c5764eac72185c276f3aac/SexMachine-0.1.1.tar.gz\n",
      "  Using cached SexMachine-0.1.1.tar.gz\n",
      "  Requirement already satisfied (use --upgrade to upgrade): SexMachine==0.1.1 from https://pypi.python.org/packages/dd/01/cc5b32af2b3658079736bd865019aeb8db04f9c5764eac72185c276f3aac/SexMachine-0.1.1.tar.gz in c:\\users\\sanchari chowdhuri\\anaconda2\\lib\\site-packages\n",
      "Building wheels for collected packages: SexMachine\n",
      "  Running setup.py bdist_wheel for SexMachine: started\n",
      "  Running setup.py bdist_wheel for SexMachine: finished with status 'done'\n",
      "  Stored in directory: C:\\Users\\Sanchari Chowdhuri\\AppData\\Local\\pip\\Cache\\wheels\\0a\\9a\\19\\ec2dd809aeda18aff90f4cf5d9dd1da4b1187fdc7a5948061c\n",
      "Successfully built SexMachine\n"
     ]
    },
    {
     "name": "stderr",
     "output_type": "stream",
     "text": [
      "You are using pip version 8.1.2, however version 9.0.1 is available.\n",
      "You should consider upgrading via the 'python -m pip install --upgrade pip' command.\n"
     ]
    }
   ],
   "source": [
    "#this library assigns gender based on name\n",
    "# To install the Sex Machine library run the following line of code in this cell\n",
    "! pip install https://pypi.python.org/packages/dd/01/cc5b32af2b3658079736bd865019aeb8db04f9c5764eac72185c276f3aac/SexMachine-0.1.1.tar.gz"
   ]
  },
  {
   "cell_type": "code",
   "execution_count": 10,
   "metadata": {
    "collapsed": false
   },
   "outputs": [
    {
     "data": {
      "text/plain": [
       "5157"
      ]
     },
     "execution_count": 10,
     "metadata": {},
     "output_type": "execute_result"
    }
   ],
   "source": [
    "#importing  combined dataframe\n",
    "\n",
    "df=pd.read_csv(\"combined_data.csv\")\n",
    "gender_df=df['user_name']\n",
    "len(gender_df)"
   ]
  },
  {
   "cell_type": "code",
   "execution_count": 11,
   "metadata": {
    "collapsed": false
   },
   "outputs": [
    {
     "data": {
      "text/plain": [
       "0    Get_your_iphone7\n",
       "1                  BJ\n",
       "2              Wenzel\n",
       "Name: first_name, dtype: object"
      ]
     },
     "execution_count": 11,
     "metadata": {},
     "output_type": "execute_result"
    }
   ],
   "source": [
    "#splitting name column\n",
    "#http://stackoverflow.com/questions/38437847/pandas-split-name-column-into-first-and-last-name-if-contains-one-space\n",
    "df[['first_name','last_name']] = df['user_name'].loc[df['user_name'].str.split().str.len() == 2].str.split(expand=True)\n",
    "\n",
    "df['first_name'].fillna(df['user_name'],inplace=True)\n",
    "first_name_df=df['first_name']\n",
    "first_name_df.head(3)"
   ]
  },
  {
   "cell_type": "code",
   "execution_count": 12,
   "metadata": {
    "collapsed": true
   },
   "outputs": [],
   "source": [
    "#creating and appendinf list named appended data based on gender of names\n",
    "import sexmachine.detector as gender\n",
    "appended_data = []\n",
    "d = gender.Detector()\n",
    "for name in first_name_df:\n",
    "    x=d.get_gender(name)\n",
    "    appended_data.append(x)"
   ]
  },
  {
   "cell_type": "code",
   "execution_count": 13,
   "metadata": {
    "collapsed": false
   },
   "outputs": [
    {
     "data": {
      "text/plain": [
       "5157"
      ]
     },
     "execution_count": 13,
     "metadata": {},
     "output_type": "execute_result"
    }
   ],
   "source": [
    "len(appended_data)"
   ]
  },
  {
   "cell_type": "code",
   "execution_count": 14,
   "metadata": {
    "collapsed": false
   },
   "outputs": [
    {
     "data": {
      "text/html": [
       "<div>\n",
       "<table border=\"1\" class=\"dataframe\">\n",
       "  <thead>\n",
       "    <tr style=\"text-align: right;\">\n",
       "      <th></th>\n",
       "      <th>Gender</th>\n",
       "    </tr>\n",
       "  </thead>\n",
       "  <tbody>\n",
       "    <tr>\n",
       "      <th>0</th>\n",
       "      <td>andy</td>\n",
       "    </tr>\n",
       "    <tr>\n",
       "      <th>1</th>\n",
       "      <td>andy</td>\n",
       "    </tr>\n",
       "    <tr>\n",
       "      <th>2</th>\n",
       "      <td>male</td>\n",
       "    </tr>\n",
       "    <tr>\n",
       "      <th>3</th>\n",
       "      <td>male</td>\n",
       "    </tr>\n",
       "    <tr>\n",
       "      <th>4</th>\n",
       "      <td>female</td>\n",
       "    </tr>\n",
       "  </tbody>\n",
       "</table>\n",
       "</div>"
      ],
      "text/plain": [
       "   Gender\n",
       "0    andy\n",
       "1    andy\n",
       "2    male\n",
       "3    male\n",
       "4  female"
      ]
     },
     "execution_count": 14,
     "metadata": {},
     "output_type": "execute_result"
    }
   ],
   "source": [
    "#creating datarame from list\n",
    "G_df = pd.DataFrame({'Gender':appended_data})\n",
    "G_df.head()"
   ]
  },
  {
   "cell_type": "code",
   "execution_count": 15,
   "metadata": {
    "collapsed": false,
    "scrolled": true
   },
   "outputs": [
    {
     "data": {
      "text/html": [
       "<div>\n",
       "<table border=\"1\" class=\"dataframe\">\n",
       "  <thead>\n",
       "    <tr style=\"text-align: right;\">\n",
       "      <th></th>\n",
       "      <th>id</th>\n",
       "      <th>text</th>\n",
       "      <th>created_at</th>\n",
       "      <th>retweet_count</th>\n",
       "      <th>favorite_count</th>\n",
       "      <th>source</th>\n",
       "      <th>user_id</th>\n",
       "      <th>user_screen_name</th>\n",
       "      <th>user_name</th>\n",
       "      <th>user_created_at</th>\n",
       "      <th>user_description</th>\n",
       "      <th>user_followers_count</th>\n",
       "      <th>user_friends_count</th>\n",
       "      <th>user_location</th>\n",
       "      <th>Type</th>\n",
       "      <th>first_name</th>\n",
       "      <th>last_name</th>\n",
       "      <th>Gender</th>\n",
       "    </tr>\n",
       "  </thead>\n",
       "  <tbody>\n",
       "    <tr>\n",
       "      <th>0</th>\n",
       "      <td>8.360000e+17</td>\n",
       "      <td>Apple Inc. (NASDAQ:AAPL) investigating explosi...</td>\n",
       "      <td>02/26/17 22:18</td>\n",
       "      <td>0</td>\n",
       "      <td>0</td>\n",
       "      <td>IFTTT</td>\n",
       "      <td>7.730000e+17</td>\n",
       "      <td>Getfirstiphone7</td>\n",
       "      <td>Get_your_iphone7</td>\n",
       "      <td>09/07/16 11:10</td>\n",
       "      <td>flow the the link in bio  to be the first  #ip...</td>\n",
       "      <td>16.0</td>\n",
       "      <td>25.0</td>\n",
       "      <td>United States</td>\n",
       "      <td>electronics</td>\n",
       "      <td>Get_your_iphone7</td>\n",
       "      <td>NaN</td>\n",
       "      <td>andy</td>\n",
       "    </tr>\n",
       "    <tr>\n",
       "      <th>1</th>\n",
       "      <td>8.360000e+17</td>\n",
       "      <td>Oh dear... https://t.co/76G5OMEblK</td>\n",
       "      <td>02/26/17 21:49</td>\n",
       "      <td>0</td>\n",
       "      <td>0</td>\n",
       "      <td>Twitter for Android</td>\n",
       "      <td>1.327812e+08</td>\n",
       "      <td>BJHalliwell</td>\n",
       "      <td>BJ Halliwell</td>\n",
       "      <td>04/14/10 4:48</td>\n",
       "      <td>NaN</td>\n",
       "      <td>31.0</td>\n",
       "      <td>60.0</td>\n",
       "      <td>Melbourne VIC</td>\n",
       "      <td>electronics</td>\n",
       "      <td>BJ</td>\n",
       "      <td>Halliwell</td>\n",
       "      <td>andy</td>\n",
       "    </tr>\n",
       "  </tbody>\n",
       "</table>\n",
       "</div>"
      ],
      "text/plain": [
       "             id                                               text  \\\n",
       "0  8.360000e+17  Apple Inc. (NASDAQ:AAPL) investigating explosi...   \n",
       "1  8.360000e+17                 Oh dear... https://t.co/76G5OMEblK   \n",
       "\n",
       "       created_at  retweet_count  favorite_count               source  \\\n",
       "0  02/26/17 22:18              0               0                IFTTT   \n",
       "1  02/26/17 21:49              0               0  Twitter for Android   \n",
       "\n",
       "        user_id user_screen_name         user_name user_created_at  \\\n",
       "0  7.730000e+17  Getfirstiphone7  Get_your_iphone7  09/07/16 11:10   \n",
       "1  1.327812e+08      BJHalliwell      BJ Halliwell   04/14/10 4:48   \n",
       "\n",
       "                                    user_description  user_followers_count  \\\n",
       "0  flow the the link in bio  to be the first  #ip...                  16.0   \n",
       "1                                                NaN                  31.0   \n",
       "\n",
       "   user_friends_count  user_location         Type        first_name  \\\n",
       "0                25.0  United States  electronics  Get_your_iphone7   \n",
       "1                60.0  Melbourne VIC  electronics                BJ   \n",
       "\n",
       "   last_name Gender  \n",
       "0        NaN   andy  \n",
       "1  Halliwell   andy  "
      ]
     },
     "execution_count": 15,
     "metadata": {},
     "output_type": "execute_result"
    }
   ],
   "source": [
    "#new dataset with added column of gender\n",
    "new_df=pd.concat([df, G_df], axis=1)\n",
    "new_df.head(2)"
   ]
  },
  {
   "cell_type": "code",
   "execution_count": 16,
   "metadata": {
    "collapsed": false
   },
   "outputs": [],
   "source": [
    "#replacing mostly female by female and mostly male by male\n",
    "new1_df=new_df.replace('mostly_female', 'female')\n",
    "new2_df=new_df.replace('mostly_male','male')"
   ]
  },
  {
   "cell_type": "code",
   "execution_count": 18,
   "metadata": {
    "collapsed": false
   },
   "outputs": [],
   "source": [
    "# Save the dataframe in a csv which will be further loaded in R for text based predictions\n",
    "new2_df.to_csv(\"Rumor.csv\", index=False)"
   ]
  },
  {
   "cell_type": "code",
   "execution_count": 22,
   "metadata": {
    "collapsed": false
   },
   "outputs": [],
   "source": [
    "#reading merged and gender segregated data\n",
    "text_df=pd.read_csv(\"Rumor.csv\")\n",
    "\n",
    "#retaining certain columns\n",
    "dataset2=text_df[['favorite_count','retweet_count','user_followers_count','user_friends_count','Gender','Type']]\n"
   ]
  },
  {
   "cell_type": "code",
   "execution_count": 23,
   "metadata": {
    "collapsed": false
   },
   "outputs": [
    {
     "data": {
      "text/html": [
       "<div>\n",
       "<table border=\"1\" class=\"dataframe\">\n",
       "  <thead>\n",
       "    <tr style=\"text-align: right;\">\n",
       "      <th></th>\n",
       "      <th>favorite_count</th>\n",
       "      <th>retweet_count</th>\n",
       "      <th>user_followers_count</th>\n",
       "      <th>user_friends_count</th>\n",
       "      <th>Gender</th>\n",
       "      <th>Type</th>\n",
       "    </tr>\n",
       "  </thead>\n",
       "  <tbody>\n",
       "    <tr>\n",
       "      <th>0</th>\n",
       "      <td>0</td>\n",
       "      <td>0</td>\n",
       "      <td>16.0</td>\n",
       "      <td>25.0</td>\n",
       "      <td>andy</td>\n",
       "      <td>electronics</td>\n",
       "    </tr>\n",
       "    <tr>\n",
       "      <th>1</th>\n",
       "      <td>0</td>\n",
       "      <td>0</td>\n",
       "      <td>31.0</td>\n",
       "      <td>60.0</td>\n",
       "      <td>andy</td>\n",
       "      <td>electronics</td>\n",
       "    </tr>\n",
       "    <tr>\n",
       "      <th>2</th>\n",
       "      <td>0</td>\n",
       "      <td>0</td>\n",
       "      <td>577.0</td>\n",
       "      <td>860.0</td>\n",
       "      <td>male</td>\n",
       "      <td>electronics</td>\n",
       "    </tr>\n",
       "  </tbody>\n",
       "</table>\n",
       "</div>"
      ],
      "text/plain": [
       "   favorite_count  retweet_count  user_followers_count  user_friends_count  \\\n",
       "0               0              0                  16.0                25.0   \n",
       "1               0              0                  31.0                60.0   \n",
       "2               0              0                 577.0               860.0   \n",
       "\n",
       "  Gender         Type  \n",
       "0   andy  electronics  \n",
       "1   andy  electronics  \n",
       "2   male  electronics  "
      ]
     },
     "execution_count": 23,
     "metadata": {},
     "output_type": "execute_result"
    }
   ],
   "source": [
    "dataset2.head(3)"
   ]
  },
  {
   "cell_type": "code",
   "execution_count": 24,
   "metadata": {
    "collapsed": true
   },
   "outputs": [],
   "source": [
    "# Save the dataframe in a csv which will be further loaded in R for text based predictions\n",
    "dataset2.to_csv(\"Rumor2.csv\", index=False)"
   ]
  },
  {
   "cell_type": "code",
   "execution_count": null,
   "metadata": {
    "collapsed": true
   },
   "outputs": [],
   "source": []
  }
 ],
 "metadata": {
  "anaconda-cloud": {},
  "kernelspec": {
   "display_name": "Python [conda root]",
   "language": "python",
   "name": "conda-root-py"
  },
  "language_info": {
   "codemirror_mode": {
    "name": "ipython",
    "version": 2
   },
   "file_extension": ".py",
   "mimetype": "text/x-python",
   "name": "python",
   "nbconvert_exporter": "python",
   "pygments_lexer": "ipython2",
   "version": "2.7.12"
  }
 },
 "nbformat": 4,
 "nbformat_minor": 1
}
